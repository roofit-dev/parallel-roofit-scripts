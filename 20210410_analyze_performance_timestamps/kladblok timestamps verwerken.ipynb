{
 "cells": [
  {
   "cell_type": "code",
   "execution_count": null,
   "id": "79a35a6f",
   "metadata": {},
   "outputs": [],
   "source": [
    "from collections import defaultdict\n",
    "import numpy as np"
   ]
  },
  {
   "cell_type": "code",
   "execution_count": null,
   "id": "cebf7596",
   "metadata": {},
   "outputs": [],
   "source": [
    "total_output = \"\"\"timestamps LikelihoodGradientJob::update_workers_state: 112610684029167 112610701565912\n",
    "timestamps LikelihoodGradientJob::receive_results_on_master: 112644816902697 112644859488707\n",
    "timestamps LikelihoodGradientJob::update_workers_state: 112645713883737 112645753127370\n",
    "timestamps LikelihoodGradientJob::receive_results_on_master: 112665210540385 112665250951149\n",
    "timestamps LikelihoodGradientJob::update_workers_state: 112665812374455 112665831142249\n",
    "timestamps LikelihoodGradientJob::receive_results_on_master: 112685004710061 112685042886471\n",
    "timestamps LikelihoodGradientJob::update_workers_state: 112685532735260 112685545556799\n",
    "timestamps LikelihoodGradientJob::receive_results_on_master: 112702476907290 112702524958786\n",
    "MnSeedGenerator: Negative G2 found - new state:   - FCN =   440.6948853451 Edm =      761.327 NCalls =     24\n",
    "VariableMetric: start iterating until Edm is < 1000\n",
    "VariableMetric: Initial state   - FCN =   440.6948853451 Edm =      761.327 NCalls =     24\n",
    "VariableMetric: Iteration #   0 - FCN =   440.6948853451 Edm =      761.327 NCalls =     24\n",
    "timestamps LikelihoodGradientJob::update_workers_state: 112702757048781 112702775713451\n",
    "timestamps LikelihoodGradientJob::receive_results_on_master: 112719266431520 112719300644175\n",
    "VariableMetric: Iteration #   1 - FCN =   334.9853991888 Edm =      664.469 NCalls =     26\n",
    "timestamps LikelihoodGradientJob::update_workers_state: 112719423603118 112719438922361\n",
    "timestamps LikelihoodGradientJob::receive_results_on_master: 112737191127063 112737225931912\n",
    "\"\"\""
   ]
  },
  {
   "cell_type": "code",
   "execution_count": null,
   "id": "08390c55",
   "metadata": {},
   "outputs": [],
   "source": [
    "timestamps_lines = (x.split(': ') for x in (x for x in total_output.splitlines() if 'timestamps' in x))"
   ]
  },
  {
   "cell_type": "code",
   "execution_count": null,
   "id": "c3d8448d",
   "metadata": {},
   "outputs": [],
   "source": [
    "timestamps = defaultdict(list)\n",
    "times = defaultdict(list)"
   ]
  },
  {
   "cell_type": "code",
   "execution_count": null,
   "id": "adbd49aa",
   "metadata": {},
   "outputs": [],
   "source": [
    "for x, y in timestamps_lines:\n",
    "    key = \" \".join(x.split()[1:])\n",
    "    stamps = [int(stamp) for stamp in y.split()]\n",
    "    timestamps[key].append(stamps)\n",
    "    times[key].append(np.diff(stamps))"
   ]
  },
  {
   "cell_type": "code",
   "execution_count": null,
   "id": "7db401e6",
   "metadata": {},
   "outputs": [],
   "source": [
    "timestamps"
   ]
  },
  {
   "cell_type": "code",
   "execution_count": null,
   "id": "6172e050",
   "metadata": {},
   "outputs": [],
   "source": [
    "for key, task_times in times.items():\n",
    "    print(key)\n",
    "    print('average:', np.mean(task_times) / 1e9, 'seconds')\n",
    "    print('total:  ', np.sum(task_times) / 1e9, 'seconds')"
   ]
  },
  {
   "cell_type": "code",
   "execution_count": null,
   "id": "39b5dc6d",
   "metadata": {},
   "outputs": [],
   "source": []
  }
 ],
 "metadata": {
  "language_info": {
   "name": "python",
   "pygments_lexer": "ipython3"
  }
 },
 "nbformat": 4,
 "nbformat_minor": 5
}
